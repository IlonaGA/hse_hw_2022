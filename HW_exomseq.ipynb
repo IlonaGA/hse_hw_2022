{
  "nbformat": 4,
  "nbformat_minor": 0,
  "metadata": {
    "colab": {
      "provenance": [],
      "include_colab_link": true
    },
    "kernelspec": {
      "name": "python3",
      "display_name": "Python 3"
    },
    "language_info": {
      "name": "python"
    }
  },
  "cells": [
    {
      "cell_type": "markdown",
      "metadata": {
        "id": "view-in-github",
        "colab_type": "text"
      },
      "source": [
        "<a href=\"https://colab.research.google.com/github/IlonaGA/hse_hw_2022/blob/main/hw_exom_seq.ipynb\" target=\"_parent\"><img src=\"https://colab.research.google.com/assets/colab-badge.svg\" alt=\"Open In Colab\"/></a>"
      ]
    },
    {
      "cell_type": "code",
      "execution_count": null,
      "metadata": {
        "colab": {
          "base_uri": "https://localhost:8080/"
        },
        "id": "dmeWqJIsTcEe",
        "outputId": "86985be5-2487-4901-f231-50b9efd3b159"
      },
      "outputs": [
        {
          "output_type": "stream",
          "name": "stdout",
          "text": [
            "--2022-12-16 19:00:54--  http://arcuda.skoltech.ru/~enabieva/ngs/chd_child.bam\n",
            "Resolving arcuda.skoltech.ru (arcuda.skoltech.ru)... 195.133.216.197\n",
            "Connecting to arcuda.skoltech.ru (arcuda.skoltech.ru)|195.133.216.197|:80... connected.\n",
            "HTTP request sent, awaiting response... 200 OK\n",
            "Length: 2532222965 (2.4G) [application/octet-stream]\n",
            "Saving to: ‘chd_child.bam’\n",
            "\n",
            "chd_child.bam       100%[===================>]   2.36G   422KB/s    in 3h 14m  \n",
            "\n",
            "2022-12-16 22:15:38 (212 KB/s) - ‘chd_child.bam’ saved [2532222965/2532222965]\n",
            "\n"
          ]
        }
      ],
      "source": [
        "! wget http://arcuda.skoltech.ru/~enabieva/ngs/chd_child.bam"
      ]
    },
    {
      "cell_type": "code",
      "source": [
        "! wget http://arcuda.skoltech.ru/~enabieva/ngs/chd_child.bam.bai\n",
        "! wget https://makarich.fbb.msu.ru/enabieva/ngs2022/GRCh38_full_analysis_set_plus_decoy_hla.dict\n",
        "! wget https://makarich.fbb.msu.ru/enabieva/ngs2022/GRCh38_full_analysis_set_plus_decoy_hla.fa.fai\n",
        "! wget https://makarich.fbb.msu.ru/enabieva/ngs2022/GRCh38_full_analysis_set_plus_decoy_hla.fa.gz"
      ],
      "metadata": {
        "colab": {
          "base_uri": "https://localhost:8080/"
        },
        "id": "4WsEfnx-T10e",
        "outputId": "fb856436-9f03-4774-f618-1a8aa271a803"
      },
      "execution_count": null,
      "outputs": [
        {
          "output_type": "stream",
          "name": "stdout",
          "text": [
            "--2022-12-16 22:15:40--  http://arcuda.skoltech.ru/~enabieva/ngs/chd_child.bam.bai\n",
            "Resolving arcuda.skoltech.ru (arcuda.skoltech.ru)... 195.133.216.197\n",
            "Connecting to arcuda.skoltech.ru (arcuda.skoltech.ru)|195.133.216.197|:80... connected.\n",
            "HTTP request sent, awaiting response... 200 OK\n",
            "Length: 6236080 (5.9M)\n",
            "Saving to: ‘chd_child.bam.bai’\n",
            "\n",
            "chd_child.bam.bai   100%[===================>]   5.95M   183KB/s    in 41s     \n",
            "\n",
            "2022-12-16 22:16:22 (148 KB/s) - ‘chd_child.bam.bai’ saved [6236080/6236080]\n",
            "\n",
            "--2022-12-16 22:16:22--  https://makarich.fbb.msu.ru/enabieva/ngs2022/GRCh38_full_analysis_set_plus_decoy_hla.dict\n",
            "Resolving makarich.fbb.msu.ru (makarich.fbb.msu.ru)... 93.180.63.131\n",
            "Connecting to makarich.fbb.msu.ru (makarich.fbb.msu.ru)|93.180.63.131|:443... connected.\n",
            "HTTP request sent, awaiting response... 200 OK\n",
            "Length: 756744 (739K) [text/plain]\n",
            "Saving to: ‘GRCh38_full_analysis_set_plus_decoy_hla.dict’\n",
            "\n",
            "GRCh38_full_analysi 100%[===================>] 739.01K   413KB/s    in 1.8s    \n",
            "\n",
            "2022-12-16 22:16:25 (413 KB/s) - ‘GRCh38_full_analysis_set_plus_decoy_hla.dict’ saved [756744/756744]\n",
            "\n",
            "--2022-12-16 22:16:25--  https://makarich.fbb.msu.ru/enabieva/ngs2022/GRCh38_full_analysis_set_plus_decoy_hla.fa.fai\n",
            "Resolving makarich.fbb.msu.ru (makarich.fbb.msu.ru)... 93.180.63.131\n",
            "Connecting to makarich.fbb.msu.ru (makarich.fbb.msu.ru)|93.180.63.131|:443... connected.\n",
            "HTTP request sent, awaiting response... 200 OK\n",
            "Length: 154196 (151K) [text/plain]\n",
            "Saving to: ‘GRCh38_full_analysis_set_plus_decoy_hla.fa.fai’\n",
            "\n",
            "GRCh38_full_analysi 100%[===================>] 150.58K   174KB/s    in 0.9s    \n",
            "\n",
            "2022-12-16 22:16:27 (174 KB/s) - ‘GRCh38_full_analysis_set_plus_decoy_hla.fa.fai’ saved [154196/154196]\n",
            "\n",
            "--2022-12-16 22:16:27--  https://makarich.fbb.msu.ru/enabieva/ngs2022/GRCh38_full_analysis_set_plus_decoy_hla.fa.gz\n",
            "Resolving makarich.fbb.msu.ru (makarich.fbb.msu.ru)... 93.180.63.131\n",
            "Connecting to makarich.fbb.msu.ru (makarich.fbb.msu.ru)|93.180.63.131|:443... connected.\n",
            "HTTP request sent, awaiting response... 200 OK\n",
            "Length: 905016532 (863M) [application/x-gzip]\n",
            "Saving to: ‘GRCh38_full_analysis_set_plus_decoy_hla.fa.gz’\n",
            "\n",
            "GRCh38_full_analysi 100%[===================>] 863.09M   590KB/s    in 10m 7s  \n",
            "\n",
            "2022-12-16 22:26:34 (1.42 MB/s) - ‘GRCh38_full_analysis_set_plus_decoy_hla.fa.gz’ saved [905016532/905016532]\n",
            "\n"
          ]
        }
      ]
    },
    {
      "cell_type": "code",
      "source": [
        "! gunzip *.gz"
      ],
      "metadata": {
        "id": "EfC6TK2JmN5m"
      },
      "execution_count": null,
      "outputs": []
    },
    {
      "cell_type": "code",
      "source": [
        "!pip install -q condacolab\n",
        "import condacolab\n",
        "condacolab.install()"
      ],
      "metadata": {
        "colab": {
          "base_uri": "https://localhost:8080/"
        },
        "id": "lhZgG9obC0dm",
        "outputId": "0327ceb3-17dd-46f1-deed-0d0ddfea7aa2"
      },
      "execution_count": 1,
      "outputs": [
        {
          "output_type": "stream",
          "name": "stdout",
          "text": [
            "⏬ Downloading https://github.com/jaimergp/miniforge/releases/latest/download/Mambaforge-colab-Linux-x86_64.sh...\n",
            "📦 Installing...\n",
            "📌 Adjusting configuration...\n",
            "🩹 Patching environment...\n",
            "⏲ Done in 0:00:29\n",
            "🔁 Restarting kernel...\n"
          ]
        }
      ]
    },
    {
      "cell_type": "code",
      "source": [
        "!conda install -c bioconda gatk4"
      ],
      "metadata": {
        "id": "3gyKkymiCzp8"
      },
      "execution_count": null,
      "outputs": []
    },
    {
      "cell_type": "markdown",
      "source": [
        "### Variant calling"
      ],
      "metadata": {
        "id": "Th2Y4N02FEl_"
      }
    },
    {
      "cell_type": "code",
      "source": [
        "!  gatk --java-options \"-Xmx4g\" HaplotypeCaller  \\\n",
        "   -R GRCh38_full_analysis_set_plus_decoy_hla.fa \\\n",
        "   -I chd_child.bam \\\n",
        "   -O output.vcf.gz"
      ],
      "metadata": {
        "colab": {
          "base_uri": "https://localhost:8080/"
        },
        "id": "z0zQ0HOMDx3F",
        "outputId": "9448a4e2-8d18-4c6e-b1b8-ba177cf3ce37"
      },
      "execution_count": null,
      "outputs": [
        {
          "output_type": "stream",
          "name": "stdout",
          "text": [
            "Using GATK jar /usr/local/share/gatk4-4.3.0.0-0/gatk-package-4.3.0.0-local.jar\n",
            "Running:\n",
            "    java -Dsamjdk.use_async_io_read_samtools=false -Dsamjdk.use_async_io_write_samtools=true -Dsamjdk.use_async_io_write_tribble=false -Dsamjdk.compression_level=2 -Xmx4g -jar /usr/local/share/gatk4-4.3.0.0-0/gatk-package-4.3.0.0-local.jar HaplotypeCaller -R GRCh38_full_analysis_set_plus_decoy_hla.fa -I chd_child.bam -O output.vcf.gz\n",
            "15:57:42.830 INFO  NativeLibraryLoader - Loading libgkl_compression.so from jar:file:/usr/local/share/gatk4-4.3.0.0-0/gatk-package-4.3.0.0-local.jar!/com/intel/gkl/native/libgkl_compression.so\n",
            "15:57:43.060 INFO  HaplotypeCaller - ------------------------------------------------------------\n",
            "15:57:43.061 INFO  HaplotypeCaller - The Genome Analysis Toolkit (GATK) v4.3.0.0\n",
            "15:57:43.061 INFO  HaplotypeCaller - For support and documentation go to https://software.broadinstitute.org/gatk/\n",
            "15:57:43.061 INFO  HaplotypeCaller - Executing as root@c2f6192459a1 on Linux v5.10.133+ amd64\n",
            "15:57:43.061 INFO  HaplotypeCaller - Java runtime: OpenJDK 64-Bit Server VM v11.0.15-internal+0-adhoc..src\n",
            "15:57:43.062 INFO  HaplotypeCaller - Start Date/Time: December 18, 2022 at 3:57:42 PM UTC\n",
            "15:57:43.062 INFO  HaplotypeCaller - ------------------------------------------------------------\n",
            "15:57:43.062 INFO  HaplotypeCaller - ------------------------------------------------------------\n",
            "15:57:43.063 INFO  HaplotypeCaller - HTSJDK Version: 3.0.1\n",
            "15:57:43.063 INFO  HaplotypeCaller - Picard Version: 2.27.5\n",
            "15:57:43.063 INFO  HaplotypeCaller - Built for Spark Version: 2.4.5\n",
            "15:57:43.063 INFO  HaplotypeCaller - HTSJDK Defaults.COMPRESSION_LEVEL : 2\n",
            "15:57:43.063 INFO  HaplotypeCaller - HTSJDK Defaults.USE_ASYNC_IO_READ_FOR_SAMTOOLS : false\n",
            "15:57:43.063 INFO  HaplotypeCaller - HTSJDK Defaults.USE_ASYNC_IO_WRITE_FOR_SAMTOOLS : true\n",
            "15:57:43.063 INFO  HaplotypeCaller - HTSJDK Defaults.USE_ASYNC_IO_WRITE_FOR_TRIBBLE : false\n",
            "15:57:43.064 INFO  HaplotypeCaller - Deflater: IntelDeflater\n",
            "15:57:43.064 INFO  HaplotypeCaller - Inflater: IntelInflater\n",
            "15:57:43.064 INFO  HaplotypeCaller - GCS max retries/reopens: 20\n",
            "15:57:43.064 INFO  HaplotypeCaller - Requester pays: disabled\n",
            "15:57:43.064 INFO  HaplotypeCaller - Initializing engine\n",
            "15:57:43.065 INFO  HaplotypeCaller - Shutting down engine\n",
            "[December 18, 2022 at 3:57:43 PM UTC] org.broadinstitute.hellbender.tools.walkers.haplotypecaller.HaplotypeCaller done. Elapsed time: 0.01 minutes.\n",
            "Runtime.totalMemory()=308281344\n",
            "***********************************************************************\n",
            "\n",
            "A USER ERROR has occurred: The specified fasta file (file:///content/GRCh38_full_analysis_set_plus_decoy_hla.fa) does not exist.\n",
            "\n",
            "***********************************************************************\n",
            "Set the system property GATK_STACKTRACE_ON_USER_EXCEPTION (--java-options '-DGATK_STACKTRACE_ON_USER_EXCEPTION=true') to print the stack trace.\n"
          ]
        }
      ]
    },
    {
      "cell_type": "code",
      "source": [
        "! zcat output.vcf.gz | tail -n 10"
      ],
      "metadata": {
        "colab": {
          "base_uri": "https://localhost:8080/"
        },
        "id": "ffqbNyzTGOrG",
        "outputId": "c3aeaa80-6fc2-406b-f548-d27e3a325560"
      },
      "execution_count": 1,
      "outputs": [
        {
          "output_type": "stream",
          "name": "stdout",
          "text": [
            "HLA-DQA1*06:01:01\t4975\t.\tT\tG\t35.48\t.\tAC=2;AF=1.00;AN=2;DP=10;ExcessHet=0.0000;FS=0.000;MLEAC=1;MLEAF=0.500;MQ=60.00;QD=29.22;SOR=1.609\tGT:AD:DP:GQ:PL\t1/1:0,1:1:3:45,3,0\n",
            "HLA-DQB1*03:03:02:01\t4773\t.\tA\tG\t35.48\t.\tAC=2;AF=1.00;AN=2;DP=5;ExcessHet=0.0000;FS=0.000;MLEAC=1;MLEAF=0.500;MQ=60.00;QD=30.05;SOR=1.609\tGT:AD:DP:GQ:PL\t1/1:0,1:1:3:45,3,0\n",
            "HLA-DQB1*03:03:02:01\t4791\t.\tC\tT\t35.48\t.\tAC=2;AF=1.00;AN=2;DP=5;ExcessHet=0.0000;FS=0.000;MLEAC=1;MLEAF=0.500;MQ=60.00;QD=24.94;SOR=1.609\tGT:AD:DP:GQ:PL\t1/1:0,1:1:3:45,3,0\n",
            "HLA-DQB1*03:05:01\t4580\t.\tA\tG\t35.48\t.\tAC=2;AF=1.00;AN=2;DP=5;ExcessHet=0.0000;FS=0.000;MLEAC=1;MLEAF=0.500;MQ=60.00;QD=31.73;SOR=1.609\tGT:AD:DP:GQ:PL\t1/1:0,1:1:3:45,3,0\n",
            "HLA-DQB1*03:05:01\t4598\t.\tC\tT\t35.48\t.\tAC=2;AF=1.00;AN=2;DP=5;ExcessHet=0.0000;FS=0.000;MLEAC=1;MLEAF=0.500;MQ=60.00;QD=30.97;SOR=1.609\tGT:AD:DP:GQ:PL\t1/1:0,1:1:3:45,3,0\n",
            "HLA-DRB1*03:01:01:01\t11246\t.\tT\tC\t58.32\t.\tAC=2;AF=1.00;AN=2;DP=46;ExcessHet=0.0000;FS=0.000;MLEAC=1;MLEAF=0.500;MQ=34.55;QD=29.16;SOR=2.303\tGT:AD:DP:GQ:PL\t1/1:0,2:2:6:70,6,0\n",
            "HLA-DRB1*03:01:01:02\t11596\t.\tT\tG\t35.48\t.\tAC=2;AF=1.00;AN=2;DP=18;ExcessHet=0.0000;FS=0.000;MLEAC=1;MLEAF=0.500;MQ=44.16;QD=31.53;SOR=1.609\tGT:AD:DP:GQ:PL\t1/1:0,1:1:3:45,3,0\n",
            "HLA-DRB1*12:01:01\t12099\t.\tT\tC\t121.84\t.\tAC=2;AF=1.00;AN=2;DP=19;ExcessHet=0.0000;FS=0.000;MLEAC=1;MLEAF=0.500;MQ=45.13;QD=27.47;SOR=2.833\tGT:AD:DP:GQ:PL\t1/1:0,3:3:9:135,9,0\n",
            "HLA-DRB1*12:01:01\t12100\t.\tG\tA\t121.84\t.\tAC=2;AF=1.00;AN=2;DP=19;ExcessHet=0.0000;FS=0.000;MLEAC=1;MLEAF=0.500;MQ=45.13;QD=29.67;SOR=2.833\tGT:AD:DP:GQ:PL\t1/1:0,3:3:9:135,9,0\n",
            "HLA-DRB1*12:01:01\t12102\t.\tA\tC\t102.84\t.\tAC=2;AF=1.00;AN=2;DP=19;ExcessHet=0.0000;FS=0.000;MLEAC=1;MLEAF=0.500;MQ=45.13;QD=34.28;SOR=2.833\tGT:AD:DP:GQ:PL\t1/1:0,3:3:9:116,9,0\n"
          ]
        }
      ]
    },
    {
      "cell_type": "markdown",
      "source": [
        "### snpeff"
      ],
      "metadata": {
        "id": "AQXnDatxaKMj"
      }
    },
    {
      "cell_type": "code",
      "source": [
        "! wget https://snpeff.blob.core.windows.net/versions/snpEff_latest_core.zip\n",
        "! unzip snpEff_latest_core.zip"
      ],
      "metadata": {
        "id": "ZV_4DOeScWJi"
      },
      "execution_count": null,
      "outputs": []
    },
    {
      "cell_type": "code",
      "source": [
        "!java -jar snpEff/snpEff.jar databases | grep GRCh"
      ],
      "metadata": {
        "colab": {
          "base_uri": "https://localhost:8080/"
        },
        "id": "5eXMW1bm0S0S",
        "outputId": "6a08458d-720d-41b9-d45e-6f4b8fafa354"
      },
      "execution_count": 3,
      "outputs": [
        {
          "output_type": "stream",
          "name": "stdout",
          "text": [
            "GRCh37.75                                                   \tHomo_sapiens                                                \t          \t                              \t[https://snpeff.blob.core.windows.net/databases/v5_1/snpEff_v5_1_GRCh37.75.zip, https://snpeff.blob.core.windows.net/databases/v5_0/snpEff_v5_0_GRCh37.75.zip]\n",
            "GRCh37.87                                                   \tHuman genome GRCh37 using transcripts                       \t          \t                              \t[https://snpeff.blob.core.windows.net/databases/v5_1/snpEff_v5_1_GRCh37.87.zip, https://snpeff.blob.core.windows.net/databases/v5_0/snpEff_v5_0_GRCh37.87.zip]\n",
            "GRCh37.p13                                                  \tHuman genome GRCh37 using RefSeq transcripts                \t          \t                              \t[https://snpeff.blob.core.windows.net/databases/v5_1/snpEff_v5_1_GRCh37.p13.zip, https://snpeff.blob.core.windows.net/databases/v5_0/snpEff_v5_0_GRCh37.p13.zip]\n",
            "GRCh38.105                                                  \tHomo_sapiens                                                \t          \t                              \t[https://snpeff.blob.core.windows.net/databases/v5_1/snpEff_v5_1_GRCh38.105.zip, https://snpeff.blob.core.windows.net/databases/v5_0/snpEff_v5_0_GRCh38.105.zip]\n",
            "GRCh38.86                                                   \tGRCh38.86                                                   \t          \t                              \t[https://snpeff.blob.core.windows.net/databases/v5_1/snpEff_v5_1_GRCh38.86.zip, https://snpeff.blob.core.windows.net/databases/v5_0/snpEff_v5_0_GRCh38.86.zip]\n",
            "GRCh38.99                                                   \tHomo_sapiens                                                \t          \t                              \t[https://snpeff.blob.core.windows.net/databases/v5_1/snpEff_v5_1_GRCh38.99.zip, https://snpeff.blob.core.windows.net/databases/v5_0/snpEff_v5_0_GRCh38.99.zip]\n",
            "GRCh38.mane.0.95.ensembl                                    \tHuman genome GRCh38, using MANE transcripts v0.95, Ensembl IDs\t          \t                              \t[https://snpeff.blob.core.windows.net/databases/v5_1/snpEff_v5_1_GRCh38.mane.0.95.ensembl.zip, https://snpeff.blob.core.windows.net/databases/v5_0/snpEff_v5_0_GRCh38.mane.0.95.ensembl.zip]\n",
            "GRCh38.mane.0.95.refseq                                     \tHuman genome GRCh38, using MANE transcripts v0.95, RefSeq IDs\t          \t                              \t[https://snpeff.blob.core.windows.net/databases/v5_1/snpEff_v5_1_GRCh38.mane.0.95.refseq.zip, https://snpeff.blob.core.windows.net/databases/v5_0/snpEff_v5_0_GRCh38.mane.0.95.refseq.zip]\n",
            "GRCh38.mane.1.0.ensembl                                     \tHuman genome GRCh38, using MANE transcripts v1.0, Ensembl IDs\t          \t                              \t[https://snpeff.blob.core.windows.net/databases/v5_1/snpEff_v5_1_GRCh38.mane.1.0.ensembl.zip, https://snpeff.blob.core.windows.net/databases/v5_0/snpEff_v5_0_GRCh38.mane.1.0.ensembl.zip]\n",
            "GRCh38.mane.1.0.refseq                                      \tHuman genome GRCh38, using MANE transcripts v1.0, RefSeq IDs\t          \t                              \t[https://snpeff.blob.core.windows.net/databases/v5_1/snpEff_v5_1_GRCh38.mane.1.0.refseq.zip, https://snpeff.blob.core.windows.net/databases/v5_0/snpEff_v5_0_GRCh38.mane.1.0.refseq.zip]\n",
            "GRCh38.p13                                                  \tHuman genome GRCh38 using RefSeq transcripts                \t          \t                              \t[https://snpeff.blob.core.windows.net/databases/v5_1/snpEff_v5_1_GRCh38.p13.zip, https://snpeff.blob.core.windows.net/databases/v5_0/snpEff_v5_0_GRCh38.p13.zip]\n",
            "GRCh38.p14                                                  \tHuman genome GRCh38 using RefSeq transcripts                \t          \t                              \t[https://snpeff.blob.core.windows.net/databases/v5_1/snpEff_v5_1_GRCh38.p14.zip, https://snpeff.blob.core.windows.net/databases/v5_0/snpEff_v5_0_GRCh38.p14.zip]\n"
          ]
        }
      ]
    },
    {
      "cell_type": "code",
      "source": [
        "!java -jar snpEff/snpEff.jar download GRCh38.105"
      ],
      "metadata": {
        "id": "_C5sMk2g0iR0"
      },
      "execution_count": 4,
      "outputs": []
    },
    {
      "cell_type": "code",
      "source": [
        "!java -Xmx8g -jar snpEff/snpEff.jar GRCh38.105 output.vcf.gz > output.ann.vcf"
      ],
      "metadata": {
        "id": "x1eUzLv-Ypku"
      },
      "execution_count": 5,
      "outputs": []
    },
    {
      "cell_type": "code",
      "source": [
        "!cat output.ann.vcf | grep -v \"^#\" | head -n 5"
      ],
      "metadata": {
        "colab": {
          "base_uri": "https://localhost:8080/"
        },
        "id": "8eOcpZ1HdzKL",
        "outputId": "9dcbbb68-4aae-41f5-f9cb-1891b4fbda45"
      },
      "execution_count": 35,
      "outputs": [
        {
          "output_type": "stream",
          "name": "stdout",
          "text": [
            "chr1\t69511\t.\tA\tG\t98.14\t.\tAC=2;AF=1.00;AN=2;DP=5;ExcessHet=0.0000;FS=0.000;MLEAC=2;MLEAF=1.00;MQ=45.98;QD=24.54;SOR=1.609;ANN=G|missense_variant|MODERATE|OR4F5|ENSG00000186092|transcript|ENST00000641515.2|protein_coding|3/3|c.484A>G|p.Thr162Ala|544/2618|484/981|162/326||\tGT:AD:DP:GQ:PL\t1/1:0,4:4:12:112,12,0\n",
            "chr1\t183697\t.\tG\tA\t37.64\t.\tAC=1;AF=0.500;AN=2;BaseQRankSum=-1.383;DP=4;ExcessHet=0.0000;FS=0.000;MLEAC=1;MLEAF=0.500;MQ=23.75;MQRankSum=0.674;QD=9.41;ReadPosRankSum=1.383;SOR=0.693;ANN=A|downstream_gene_variant|MODIFIER|WASH9P|ENSG00000279457|transcript|ENST00000623083.4|unprocessed_pseudogene||n.*1520C>T|||||1520|,A|downstream_gene_variant|MODIFIER|MIR6859-2|ENSG00000273874|transcript|ENST00000612080.1|miRNA||n.*4194C>T|||||4194|,A|intron_variant|MODIFIER|DDX11L17|ENSG00000279928|transcript|ENST00000624431.2|unprocessed_pseudogene|3/4|n.215-43G>A||||||\tGT:AD:DP:GQ:PL\t0/1:2,2:4:44:45,0,44\n",
            "chr1\t762751\t.\tA\tAGAGGGAAGGAGGAAGG\t46.6\t.\tAC=1;AF=0.500;AN=2;BaseQRankSum=0.674;DP=6;ExcessHet=0.0000;FS=3.979;MLEAC=1;MLEAF=0.500;MQ=32.48;MQRankSum=-1.645;QD=9.32;ReadPosRankSum=-0.524;SOR=0.061;ANN=AGAGGGAAGGAGGAAGG|upstream_gene_variant|MODIFIER|RNU6-1199P|ENSG00000223181|transcript|ENST00000411249.1|snRNA||n.-4431_-4416dupCCTTCCTCCTTCCCTC|||||4416|,AGAGGGAAGGAGGAAGG|downstream_gene_variant|MODIFIER|ENSG00000229905|ENSG00000229905|transcript|ENST00000422528.1|pseudogene||n.*762_*763insGAGGGAAGGAGGAAGG|||||763|,AGAGGGAAGGAGGAAGG|downstream_gene_variant|MODIFIER|ENSG00000228327|ENSG00000228327|transcript|ENST00000428504.2|transcribed_unprocessed_pseudogene||n.*1956_*1971dupCCTTCCTCCTTCCCTC|||||1971|,AGAGGGAAGGAGGAAGG|intron_variant|MODIFIER|ENSG00000228327|ENSG00000228327|transcript|ENST00000506640.2|processed_transcript|7/15|n.1451+1956_1451+1971dupCCTTCCTCCTTCCCTC||||||,AGAGGGAAGGAGGAAGG|intron_variant|MODIFIER|ENSG00000230021|ENSG00000230021|transcript|ENST00000635509.2|processed_transcript|1/3|n.101-50845_101-50830dupCCTTCCTCCTTCCCTC||||||,AGAGGGAAGGAGGAAGG|intron_variant|MODIFIER|ENSG00000230021|ENSG00000230021|transcript|ENST00000634337.2|processed_transcript|1/4|n.128-63808_128-63793dupCCTTCCTCCTTCCCTC||||||\tGT:AD:DP:GQ:PL\t0/1:3,2:5:54:54,0,115\n",
            "chr1\t769017\t.\tCA\tC\t51.28\t.\tAC=2;AF=1.00;AN=2;DP=2;ExcessHet=0.0000;FS=0.000;MLEAC=1;MLEAF=0.500;MQ=20.00;QD=25.64;SOR=0.693;ANN=C|intron_variant|MODIFIER|ENSG00000228327|ENSG00000228327|transcript|ENST00000506640.2|processed_transcript|4/15|n.802-405delT||||||,C|intron_variant|MODIFIER|ENSG00000230021|ENSG00000230021|transcript|ENST00000635509.2|processed_transcript|1/3|n.101-57096delT||||||,C|intron_variant|MODIFIER|ENSG00000230021|ENSG00000230021|transcript|ENST00000634337.2|processed_transcript|1/4|n.127+58652delT||||||,C|intron_variant|MODIFIER|ENSG00000228327|ENSG00000228327|transcript|ENST00000428504.2|transcribed_unprocessed_pseudogene|1/4|n.111-405delT||||||\tGT:AD:DP:GQ:PL\t1/1:0,2:2:6:63,6,0\n",
            "chr1\t826893\t.\tG\tA\t176.64\t.\tAC=1;AF=0.500;AN=2;BaseQRankSum=-0.985;DP=15;ExcessHet=0.0000;FS=5.497;MLEAC=1;MLEAF=0.500;MQ=55.24;MQRankSum=-2.789;QD=11.78;ReadPosRankSum=-0.337;SOR=2.584;ANN=A|upstream_gene_variant|MODIFIER|LINC01128|ENSG00000228794|transcript|ENST00000445118.7|pseudogene||n.-705G>A|||||705|,A|upstream_gene_variant|MODIFIER|LINC01128|ENSG00000228794|transcript|ENST00000449005.6|pseudogene||n.-770G>A|||||770|,A|upstream_gene_variant|MODIFIER|LINC01128|ENSG00000228794|transcript|ENST00000415295.1|pseudogene||n.-4712G>A|||||4712|,A|upstream_gene_variant|MODIFIER|LINC01128|ENSG00000228794|transcript|ENST00000441765.6|pseudogene||n.-774G>A|||||774|,A|upstream_gene_variant|MODIFIER|LINC01128|ENSG00000228794|transcript|ENST00000609139.6|pseudogene||n.-774G>A|||||774|,A|upstream_gene_variant|MODIFIER|LINC01128|ENSG00000228794|transcript|ENST00000416570.6|pseudogene||n.-774G>A|||||774|,A|upstream_gene_variant|MODIFIER|LINC01128|ENSG00000228794|transcript|ENST00000610067.7|pseudogene||n.-715G>A|||||715|,A|upstream_gene_variant|MODIFIER|LINC01128|ENSG00000228794|transcript|ENST00000623070.5|pseudogene||n.-759G>A|||||759|,A|upstream_gene_variant|MODIFIER|LINC01128|ENSG00000228794|transcript|ENST00000608189.6|pseudogene||n.-761G>A|||||761|,A|upstream_gene_variant|MODIFIER|LINC01128|ENSG00000228794|transcript|ENST00000448975.6|pseudogene||n.-764G>A|||||764|,A|upstream_gene_variant|MODIFIER|LINC01128|ENSG00000228794|transcript|ENST00000609009.6|pseudogene||n.-774G>A|||||774|,A|upstream_gene_variant|MODIFIER|LINC01128|ENSG00000228794|transcript|ENST00000622921.1|pseudogene||n.-928G>A|||||928|,A|upstream_gene_variant|MODIFIER|LINC01128|ENSG00000228794|transcript|ENST00000670780.1|pseudogene||n.-711G>A|||||711|,A|upstream_gene_variant|MODIFIER|LINC01128|ENSG00000228794|transcript|ENST00000669922.1|pseudogene||n.-710G>A|||||710|,A|upstream_gene_variant|MODIFIER|LINC01128|ENSG00000228794|transcript|ENST00000688309.1|pseudogene||n.-715G>A|||||715|,A|upstream_gene_variant|MODIFIER|LINC01128|ENSG00000228794|transcript|ENST00000659124.2|pseudogene||n.-715G>A|||||715|,A|upstream_gene_variant|MODIFIER|LINC01128|ENSG00000228794|transcript|ENST00000667414.1|pseudogene||n.-742G>A|||||742|,A|upstream_gene_variant|MODIFIER|LINC01128|ENSG00000228794|transcript|ENST00000666741.1|pseudogene||n.-745G>A|||||745|,A|upstream_gene_variant|MODIFIER|LINC01128|ENSG00000228794|transcript|ENST00000685764.1|pseudogene||n.-750G>A|||||750|,A|upstream_gene_variant|MODIFIER|LINC01128|ENSG00000228794|transcript|ENST00000688008.1|pseudogene||n.-759G>A|||||759|,A|upstream_gene_variant|MODIFIER|LINC01128|ENSG00000228794|transcript|ENST00000658846.1|pseudogene||n.-761G>A|||||761|,A|upstream_gene_variant|MODIFIER|LINC01128|ENSG00000228794|transcript|ENST00000685879.1|pseudogene||n.-766G>A|||||766|,A|upstream_gene_variant|MODIFIER|LINC01128|ENSG00000228794|transcript|ENST00000661237.2|pseudogene||n.-766G>A|||||766|,A|upstream_gene_variant|MODIFIER|LINC01128|ENSG00000228794|transcript|ENST00000686238.1|pseudogene||n.-766G>A|||||766|,A|upstream_gene_variant|MODIFIER|LINC01128|ENSG00000228794|transcript|ENST00000685566.1|pseudogene||n.-768G>A|||||768|,A|upstream_gene_variant|MODIFIER|LINC01128|ENSG00000228794|transcript|ENST00000657837.1|pseudogene||n.-780G>A|||||780|,A|upstream_gene_variant|MODIFIER|LINC01128|ENSG00000228794|transcript|ENST00000691316.1|pseudogene||n.-799G>A|||||799|,A|upstream_gene_variant|MODIFIER|LINC01128|ENSG00000228794|transcript|ENST00000692194.1|pseudogene||n.-800G>A|||||800|,A|upstream_gene_variant|MODIFIER|LINC01128|ENSG00000228794|transcript|ENST00000668541.1|pseudogene||n.-878G>A|||||878|,A|upstream_gene_variant|MODIFIER|LINC01128|ENSG00000228794|transcript|ENST00000691234.1|pseudogene||n.-881G>A|||||881|,A|upstream_gene_variant|MODIFIER|LINC01128|ENSG00000228794|transcript|ENST00000657175.1|pseudogene||n.-913G>A|||||913|,A|upstream_gene_variant|MODIFIER|LINC01128|ENSG00000228794|transcript|ENST00000660797.1|pseudogene||n.-922G>A|||||922|,A|upstream_gene_variant|MODIFIER|LINC01128|ENSG00000228794|transcript|ENST00000670824.1|pseudogene||n.-4685G>A|||||4685|,A|upstream_gene_variant|MODIFIER|LINC01128|ENSG00000228794|transcript|ENST00000688420.1|pseudogene||n.-4724G>A|||||4724|,A|intron_variant|MODIFIER|ENSG00000230021|ENSG00000230021|transcript|ENST00000635509.2|processed_transcript|1/3|n.100+777C>T||||||,A|intron_variant|MODIFIER|ENSG00000230021|ENSG00000230021|transcript|ENST00000634337.2|processed_transcript|1/4|n.127+777C>T||||||,A|intron_variant|MODIFIER|LINC01128|ENSG00000228794|transcript|ENST00000624927.3|pseudogene|1/2|n.415+1341G>A||||||,A|non_coding_transcript_exon_variant|MODIFIER|LINC01128|ENSG00000228794|transcript|ENST00000623808.4|pseudogene|1/5|n.62G>A||||||,A|non_coding_transcript_exon_variant|MODIFIER|LINC00115|ENSG00000225880|transcript|ENST00000473798.1|pseudogene|1/1|n.630C>T||||||,A|non_coding_transcript_exon_variant|MODIFIER|LINC01128|ENSG00000228794|transcript|ENST00000685334.1|pseudogene|1/4|n.41G>A||||||\tGT:AD:DP:GQ:PL\t0/1:8,7:15:99:184,0,224\n"
          ]
        }
      ]
    },
    {
      "cell_type": "code",
      "source": [
        "!egrep \"#|synonymous|missense|stop_gained\" output.ann.vcf > file.ann.coding.vcf \n",
        "!cat file.ann.coding.vcf | grep -v \"^#\" | head -n 5"
      ],
      "metadata": {
        "id": "oO2yE78hd6K9",
        "colab": {
          "base_uri": "https://localhost:8080/"
        },
        "outputId": "c1c5c574-8e4a-460f-dc5c-f5b36a851391"
      },
      "execution_count": 7,
      "outputs": [
        {
          "output_type": "stream",
          "name": "stdout",
          "text": [
            "chr1\t69511\t.\tA\tG\t98.14\t.\tAC=2;AF=1.00;AN=2;DP=5;ExcessHet=0.0000;FS=0.000;MLEAC=2;MLEAF=1.00;MQ=45.98;QD=24.54;SOR=1.609;ANN=G|missense_variant|MODERATE|OR4F5|ENSG00000186092|transcript|ENST00000641515.2|protein_coding|3/3|c.484A>G|p.Thr162Ala|544/2618|484/981|162/326||\tGT:AD:DP:GQ:PL\t1/1:0,4:4:12:112,12,0\n",
            "chr1\t946247\t.\tG\tA\t108.14\t.\tAC=2;AF=1.00;AN=2;DP=4;ExcessHet=0.0000;FS=0.000;MLEAC=2;MLEAF=1.00;MQ=60.00;QD=27.04;SOR=1.609;ANN=A|synonymous_variant|LOW|NOC2L|ENSG00000188976|transcript|ENST00000327044.7|protein_coding|16/19|c.1843C>T|p.Leu615Leu|1859/2757|1843/2250|615/749||,A|upstream_gene_variant|MODIFIER|NOC2L|ENSG00000188976|transcript|ENST00000496938.1|processed_transcript||n.-685C>T|||||685|,A|downstream_gene_variant|MODIFIER|SAMD11|ENSG00000187634|transcript|ENST00000455979.1|protein_coding||c.*2094G>A|||||1988|WARNING_TRANSCRIPT_NO_START_CODON,A|downstream_gene_variant|MODIFIER|SAMD11|ENSG00000187634|transcript|ENST00000464948.1|retained_intron||n.*3355G>A|||||3355|,A|downstream_gene_variant|MODIFIER|SAMD11|ENSG00000187634|transcript|ENST00000466827.1|retained_intron||n.*3445G>A|||||3445|,A|downstream_gene_variant|MODIFIER|SAMD11|ENSG00000187634|transcript|ENST00000618323.5|protein_coding||c.*2094G>A|||||1673|,A|downstream_gene_variant|MODIFIER|SAMD11|ENSG00000187634|transcript|ENST00000616016.5|protein_coding||c.*2094G>A|||||1673|,A|downstream_gene_variant|MODIFIER|SAMD11|ENSG00000187634|transcript|ENST00000342066.8|protein_coding||c.*2094G>A|||||1673|,A|downstream_gene_variant|MODIFIER|SAMD11|ENSG00000187634|transcript|ENST00000616125.5|protein_coding||c.*2094G>A|||||2094|,A|downstream_gene_variant|MODIFIER|SAMD11|ENSG00000187634|transcript|ENST00000617307.5|protein_coding||c.*2094G>A|||||2094|,A|downstream_gene_variant|MODIFIER|SAMD11|ENSG00000187634|transcript|ENST00000618181.5|protein_coding||c.*2094G>A|||||2094|,A|downstream_gene_variant|MODIFIER|SAMD11|ENSG00000187634|transcript|ENST00000618779.5|protein_coding||c.*2094G>A|||||2094|,A|downstream_gene_variant|MODIFIER|SAMD11|ENSG00000187634|transcript|ENST00000622503.5|protein_coding||c.*2094G>A|||||2094|,A|downstream_gene_variant|MODIFIER|SAMD11|ENSG00000187634|transcript|ENST00000341065.8|protein_coding||c.*2094G>A|||||1672|WARNING_TRANSCRIPT_NO_START_CODON,A|downstream_gene_variant|MODIFIER|SAMD11|ENSG00000187634|transcript|ENST00000478729.1|processed_transcript||n.*4074G>A|||||4074|,A|downstream_gene_variant|MODIFIER|SAMD11|ENSG00000187634|transcript|ENST00000474461.1|retained_intron||n.*3253G>A|||||3253|,A|non_coding_transcript_exon_variant|MODIFIER|NOC2L|ENSG00000188976|transcript|ENST00000483767.5|retained_intron|2/5|n.699C>T||||||,A|non_coding_transcript_exon_variant|MODIFIER|NOC2L|ENSG00000188976|transcript|ENST00000477976.5|retained_intron|14/17|n.3290C>T||||||\tGT:AD:DP:GQ:PL\t1/1:0,4:4:12:122,12,0\n",
            "chr1\t952421\t.\tA\tG\t462.06\t.\tAC=2;AF=1.00;AN=2;DP=14;ExcessHet=0.0000;FS=0.000;MLEAC=2;MLEAF=1.00;MQ=60.00;QD=33.00;SOR=2.985;ANN=G|synonymous_variant|LOW|NOC2L|ENSG00000188976|transcript|ENST00000327044.7|protein_coding|10/19|c.1182T>C|p.Thr394Thr|1198/2757|1182/2250|394/749||,G|downstream_gene_variant|MODIFIER|NOC2L|ENSG00000188976|transcript|ENST00000487214.1|processed_transcript||n.*2005T>C|||||2005|,G|non_coding_transcript_exon_variant|MODIFIER|NOC2L|ENSG00000188976|transcript|ENST00000477976.5|retained_intron|8/17|n.2629T>C||||||\tGT:AD:DP:GQ:PL\t1/1:0,14:14:42:476,42,0\n",
            "chr1\t953259\t.\tT\tC\t785.06\t.\tAC=2;AF=1.00;AN=2;DP=26;ExcessHet=0.0000;FS=0.000;MLEAC=2;MLEAF=1.00;MQ=60.00;QD=31.40;SOR=0.941;ANN=C|synonymous_variant|LOW|NOC2L|ENSG00000188976|transcript|ENST00000327044.7|protein_coding|9/19|c.918A>G|p.Glu306Glu|934/2757|918/2250|306/749||,C|downstream_gene_variant|MODIFIER|NOC2L|ENSG00000188976|transcript|ENST00000469563.1|retained_intron||n.*4987A>G|||||4987|,C|downstream_gene_variant|MODIFIER|NOC2L|ENSG00000188976|transcript|ENST00000487214.1|processed_transcript||n.*1167A>G|||||1167|,C|non_coding_transcript_exon_variant|MODIFIER|NOC2L|ENSG00000188976|transcript|ENST00000477976.5|retained_intron|7/17|n.2365A>G||||||\tGT:AD:DP:GQ:PL\t1/1:0,25:25:75:799,75,0\n",
            "chr1\t953279\t.\tT\tC\t713.06\t.\tAC=2;AF=1.00;AN=2;DP=26;ExcessHet=0.0000;FS=0.000;MLEAC=2;MLEAF=1.00;MQ=60.00;QD=27.43;SOR=0.846;ANN=C|missense_variant|MODERATE|NOC2L|ENSG00000188976|transcript|ENST00000327044.7|protein_coding|9/19|c.898A>G|p.Ile300Val|914/2757|898/2250|300/749||,C|downstream_gene_variant|MODIFIER|NOC2L|ENSG00000188976|transcript|ENST00000469563.1|retained_intron||n.*4967A>G|||||4967|,C|downstream_gene_variant|MODIFIER|NOC2L|ENSG00000188976|transcript|ENST00000487214.1|processed_transcript||n.*1147A>G|||||1147|,C|non_coding_transcript_exon_variant|MODIFIER|NOC2L|ENSG00000188976|transcript|ENST00000477976.5|retained_intron|7/17|n.2345A>G||||||\tGT:AD:DP:GQ:PL\t1/1:0,26:26:78:727,78,0\n"
          ]
        }
      ]
    },
    {
      "cell_type": "markdown",
      "source": [
        "Количество синонимичных и несинонимичных замен"
      ],
      "metadata": {
        "id": "C4yz5ujsAseG"
      }
    },
    {
      "cell_type": "code",
      "source": [
        "!cat file.ann.coding.vcf | grep synonymous | wc -l #Синонимичные\n",
        "!cat file.ann.coding.vcf | grep missense | wc -l #Несиноминичные"
      ],
      "metadata": {
        "colab": {
          "base_uri": "https://localhost:8080/"
        },
        "id": "gO2qfe_i15tX",
        "outputId": "791338fa-865a-4e9a-eefa-9a1d16e68bc0"
      },
      "execution_count": 8,
      "outputs": [
        {
          "output_type": "stream",
          "name": "stdout",
          "text": [
            "10777\n",
            "10141\n"
          ]
        }
      ]
    },
    {
      "cell_type": "markdown",
      "source": [
        "ts/tv"
      ],
      "metadata": {
        "id": "aInIzO7gA2Yc"
      }
    },
    {
      "cell_type": "code",
      "source": [
        "!java -jar snpEff/SnpSift.jar tstv file.ann.coding.vcf"
      ],
      "metadata": {
        "colab": {
          "base_uri": "https://localhost:8080/"
        },
        "id": "BNZrIpMMwvMi",
        "outputId": "3e19054b-da07-40c8-df17-bf08067dede6"
      },
      "execution_count": 9,
      "outputs": [
        {
          "output_type": "stream",
          "name": "stdout",
          "text": [
            "00:00:00 Analysing 'file.ann.coding.vcf'\n",
            "...................................................................................................\n",
            "100\t....................................................................................................\n",
            "200\t....................................................................................................\n",
            "300\t....................................................................................................\n",
            "400\t....................................................................................................\n",
            "500\t....................................................................................................\n",
            "600\t....................................................................................................\n",
            "700\t....................................................................................................\n",
            "800\t....................................................................................................\n",
            "900\t....................................................................................................\n",
            "1000\t....................................................................................................\n",
            "1100\t....................................................................................................\n",
            "1200\t....................................................................................................\n",
            "1300\t....................................................................................................\n",
            "1400\t....................................................................................................\n",
            "1500\t....................................................................................................\n",
            "1600\t....................................................................................................\n",
            "1700\t....................................................................................................\n",
            "1800\t....................................................................................................\n",
            "1900\t....................................................................................................\n",
            "2000\t....................................................................................................\n",
            "2100\t....................................................................................................\n",
            "2200\t....................................................................................................\n",
            "2300\t....................................................................................................\n",
            "2400\t....................................................................................................\n",
            "2500\t....................................................................................................\n",
            "2600\t....................................................................................................\n",
            "2700\t....................................................................................................\n",
            "2800\t....................................................................................................\n",
            "2900\t....................................................................................................\n",
            "3000\t....................................................................................................\n",
            "3100\t....................................................................................................\n",
            "3200\t....................................................................................................\n",
            "3300\t....................................................................................................\n",
            "3400\t....................................................................................................\n",
            "3500\t....................................................................................................\n",
            "3600\t....................................................................................................\n",
            "3700\t....................................................................................................\n",
            "3800\t....................................................................................................\n",
            "3900\t....................................................................................................\n",
            "4000\t....................................................................................................\n",
            "4100\t....................................................................................................\n",
            "4200\t....................................................................................................\n",
            "4300\t....................................................................................................\n",
            "4400\t....................................................................................................\n",
            "4500\t....................................................................................................\n",
            "4600\t....................................................................................................\n",
            "4700\t....................................................................................................\n",
            "4800\t....................................................................................................\n",
            "4900\t....................................................................................................\n",
            "5000\t....................................................................................................\n",
            "5100\t....................................................................................................\n",
            "5200\t....................................................................................................\n",
            "5300\t....................................................................................................\n",
            "5400\t....................................................................................................\n",
            "5500\t....................................................................................................\n",
            "5600\t....................................................................................................\n",
            "5700\t....................................................................................................\n",
            "5800\t....................................................................................................\n",
            "5900\t....................................................................................................\n",
            "6000\t....................................................................................................\n",
            "6100\t....................................................................................................\n",
            "6200\t....................................................................................................\n",
            "6300\t....................................................................................................\n",
            "6400\t....................................................................................................\n",
            "6500\t....................................................................................................\n",
            "6600\t....................................................................................................\n",
            "6700\t....................................................................................................\n",
            "6800\t....................................................................................................\n",
            "6900\t....................................................................................................\n",
            "7000\t....................................................................................................\n",
            "7100\t....................................................................................................\n",
            "7200\t....................................................................................................\n",
            "7300\t....................................................................................................\n",
            "7400\t....................................................................................................\n",
            "7500\t....................................................................................................\n",
            "7600\t....................................................................................................\n",
            "7700\t....................................................................................................\n",
            "7800\t....................................................................................................\n",
            "7900\t....................................................................................................\n",
            "8000\t....................................................................................................\n",
            "8100\t....................................................................................................\n",
            "8200\t....................................................................................................\n",
            "8300\t....................................................................................................\n",
            "8400\t....................................................................................................\n",
            "8500\t....................................................................................................\n",
            "8600\t....................................................................................................\n",
            "8700\t....................................................................................................\n",
            "8800\t....................................................................................................\n",
            "8900\t....................................................................................................\n",
            "9000\t....................................................................................................\n",
            "9100\t....................................................................................................\n",
            "9200\t....................................................................................................\n",
            "9300\t....................................................................................................\n",
            "9400\t....................................................................................................\n",
            "9500\t....................................................................................................\n",
            "9600\t....................................................................................................\n",
            "9700\t....................................................................................................\n",
            "9800\t....................................................................................................\n",
            "9900\t....................................................................................................\n",
            "10000\t....................................................................................................\n",
            "10100\t....................................................................................................\n",
            "10200\t....................................................................................................\n",
            "10300\t....................................................................................................\n",
            "10400\t....................................................................................................\n",
            "10500\t....................................................................................................\n",
            "10600\t....................................................................................................\n",
            "10700\t....................................................................................................\n",
            "10800\t....................................................................................................\n",
            "10900\t....................................................................................................\n",
            "11000\t....................................................................................................\n",
            "11100\t....................................................................................................\n",
            "11200\t....................................................................................................\n",
            "11300\t....................................................................................................\n",
            "11400\t....................................................................................................\n",
            "11500\t....................................................................................................\n",
            "11600\t....................................................................................................\n",
            "11700\t....................................................................................................\n",
            "11800\t....................................................................................................\n",
            "11900\t....................................................................................................\n",
            "12000\t....................................................................................................\n",
            "12100\t....................................................................................................\n",
            "12200\t....................................................................................................\n",
            "12300\t....................................................................................................\n",
            "12400\t....................................................................................................\n",
            "12500\t....................................................................................................\n",
            "12600\t....................................................................................................\n",
            "12700\t....................................................................................................\n",
            "12800\t....................................................................................................\n",
            "12900\t....................................................................................................\n",
            "13000\t....................................................................................................\n",
            "13100\t....................................................................................................\n",
            "13200\t....................................................................................................\n",
            "13300\t....................................................................................................\n",
            "13400\t....................................................................................................\n",
            "13500\t....................................................................................................\n",
            "13600\t....................................................................................................\n",
            "13700\t....................................................................................................\n",
            "13800\t....................................................................................................\n",
            "13900\t....................................................................................................\n",
            "14000\t....................................................................................................\n",
            "14100\t....................................................................................................\n",
            "14200\t....................................................................................................\n",
            "14300\t....................................................................................................\n",
            "14400\t....................................................................................................\n",
            "14500\t....................................................................................................\n",
            "14600\t....................................................................................................\n",
            "14700\t....................................................................................................\n",
            "14800\t....................................................................................................\n",
            "14900\t....................................................................................................\n",
            "15000\t....................................................................................................\n",
            "15100\t....................................................................................................\n",
            "15200\t....................................................................................................\n",
            "15300\t....................................................................................................\n",
            "15400\t....................................................................................................\n",
            "15500\t....................................................................................................\n",
            "15600\t....................................................................................................\n",
            "15700\t....................................................................................................\n",
            "15800\t....................................................................................................\n",
            "15900\t....................................................................................................\n",
            "16000\t....................................................................................................\n",
            "16100\t....................................................................................................\n",
            "16200\t....................................................................................................\n",
            "16300\t....................................................................................................\n",
            "16400\t....................................................................................................\n",
            "16500\t....................................................................................................\n",
            "16600\t....................................................................................................\n",
            "16700\t....................................................................................................\n",
            "16800\t....................................................................................................\n",
            "16900\t....................................................................................................\n",
            "17000\t....................................................................................................\n",
            "17100\t....................................................................................................\n",
            "17200\t....................................................................................................\n",
            "17300\t....................................................................................................\n",
            "17400\t....................................................................................................\n",
            "17500\t....................................................................................................\n",
            "17600\t....................................................................................................\n",
            "17700\t....................................................................................................\n",
            "17800\t....................................................................................................\n",
            "17900\t....................................................................................................\n",
            "18000\t....................................................................................................\n",
            "18100\t....................................................................................................\n",
            "18200\t....................................................................................................\n",
            "18300\t....................................................................................................\n",
            "18400\t....................................................................................................\n",
            "18500\t....................................................................................................\n",
            "18600\t....................................................................................................\n",
            "18700\t....................................................................................................\n",
            "18800\t....................................................................................................\n",
            "18900\t....................................................................................................\n",
            "19000\t....................................................................................................\n",
            "19100\t....................................................................................................\n",
            "19200\t....................................................................................................\n",
            "19300\t....................................................................................................\n",
            "19400\t....................................................................................................\n",
            "19500\t....................................................................................................\n",
            "19600\t....................................................................................................\n",
            "19700\t....................................................................................................\n",
            "19800\t....................................................................................................\n",
            "19900\t....................................................................................................\n",
            "20000\t....................................................................................................\n",
            "20100\t....................................................................................................\n",
            "20200\t....................................................................................................\n",
            "20300\t....................................................................................................\n",
            "20400\t....................................................................................................\n",
            "20500\t....................................................................................................\n",
            "20600\t....................................................................................................\n",
            "20700\t....................................................................................................\n",
            "20800\t......\n",
            "TS/TV stats:\n",
            "Sample ,justchild,Total\n",
            "Transitions ,22700,22700\n",
            "Transversions ,7444,7444\n",
            "Ts/Tv ,3.049,3.049\n",
            "\n",
            "\n",
            "Hom/Het stats:\n",
            "Sample ,justchild,Total\n",
            "Homozygous reference,0,0\n",
            "One ALT,11418,11418\n",
            "Two ALTs,9387,9387\n",
            "Missing,0,0\n",
            "\n",
            "\n",
            "Variant type stats:\n",
            "Sample ,justchild,Total\n",
            "SNP,0,0\n",
            "MNP,0,0\n",
            "INS,0,0\n",
            "DEL,0,0\n",
            "MIXED,0,0\n",
            "Multiallelic,0,0\n",
            "\n",
            "\n",
            "Allele count stats:\n",
            "Sample ,justchild,Total\n",
            "MAC=0,0,0\n",
            "\n",
            "00:00:01 Done\n"
          ]
        }
      ]
    },
    {
      "cell_type": "markdown",
      "source": [
        "Соотношение хорошее"
      ],
      "metadata": {
        "id": "Ur48T4fcJAAn"
      }
    },
    {
      "cell_type": "markdown",
      "source": [
        "### Фильтрация"
      ],
      "metadata": {
        "id": "FDO50iuYBCAE"
      }
    },
    {
      "cell_type": "code",
      "source": [
        "# Дефолтные значения из примера\n",
        "%%shell\n",
        "gatk VariantFiltration \\\n",
        "    -V output.ann.vcf \\\n",
        "    -filter \"QD < 2.0\" --filter-name \"QD2\" \\\n",
        "    -filter \"QUAL < 30.0\" --filter-name \"QUAL30\" \\\n",
        "    -filter \"SOR > 3.0\" --filter-name \"SOR3\" \\\n",
        "    -filter \"FS > 60.0\" --filter-name \"FS60\" \\\n",
        "    -filter \"MQ < 40.0\" --filter-name \"MQ40\" \\\n",
        "    -O snps_filtered.vcf.gz"
      ],
      "metadata": {
        "colab": {
          "base_uri": "https://localhost:8080/"
        },
        "id": "KA07JNvL2Y1j",
        "outputId": "bf65be84-f03e-440d-9692-a56efdb78be1"
      },
      "execution_count": 10,
      "outputs": [
        {
          "output_type": "stream",
          "name": "stdout",
          "text": [
            "Using GATK jar /usr/local/share/gatk4-4.3.0.0-0/gatk-package-4.3.0.0-local.jar\n",
            "Running:\n",
            "    java -Dsamjdk.use_async_io_read_samtools=false -Dsamjdk.use_async_io_write_samtools=true -Dsamjdk.use_async_io_write_tribble=false -Dsamjdk.compression_level=2 -jar /usr/local/share/gatk4-4.3.0.0-0/gatk-package-4.3.0.0-local.jar VariantFiltration -V output.ann.vcf -filter QD < 2.0 --filter-name QD2 -filter QUAL < 30.0 --filter-name QUAL30 -filter SOR > 3.0 --filter-name SOR3 -filter FS > 60.0 --filter-name FS60 -filter MQ < 40.0 --filter-name MQ40 -O snps_filtered.vcf.gz\n",
            "16:08:46.388 INFO  NativeLibraryLoader - Loading libgkl_compression.so from jar:file:/usr/local/share/gatk4-4.3.0.0-0/gatk-package-4.3.0.0-local.jar!/com/intel/gkl/native/libgkl_compression.so\n",
            "16:08:46.779 INFO  VariantFiltration - ------------------------------------------------------------\n",
            "16:08:46.780 INFO  VariantFiltration - The Genome Analysis Toolkit (GATK) v4.3.0.0\n",
            "16:08:46.780 INFO  VariantFiltration - For support and documentation go to https://software.broadinstitute.org/gatk/\n",
            "16:08:46.780 INFO  VariantFiltration - Executing as root@05fae5b5ca17 on Linux v5.10.133+ amd64\n",
            "16:08:46.780 INFO  VariantFiltration - Java runtime: OpenJDK 64-Bit Server VM v11.0.15-internal+0-adhoc..src\n",
            "16:08:46.780 INFO  VariantFiltration - Start Date/Time: December 19, 2022 at 4:08:46 PM UTC\n",
            "16:08:46.780 INFO  VariantFiltration - ------------------------------------------------------------\n",
            "16:08:46.780 INFO  VariantFiltration - ------------------------------------------------------------\n",
            "16:08:46.782 INFO  VariantFiltration - HTSJDK Version: 3.0.1\n",
            "16:08:46.782 INFO  VariantFiltration - Picard Version: 2.27.5\n",
            "16:08:46.782 INFO  VariantFiltration - Built for Spark Version: 2.4.5\n",
            "16:08:46.782 INFO  VariantFiltration - HTSJDK Defaults.COMPRESSION_LEVEL : 2\n",
            "16:08:46.782 INFO  VariantFiltration - HTSJDK Defaults.USE_ASYNC_IO_READ_FOR_SAMTOOLS : false\n",
            "16:08:46.782 INFO  VariantFiltration - HTSJDK Defaults.USE_ASYNC_IO_WRITE_FOR_SAMTOOLS : true\n",
            "16:08:46.782 INFO  VariantFiltration - HTSJDK Defaults.USE_ASYNC_IO_WRITE_FOR_TRIBBLE : false\n",
            "16:08:46.782 INFO  VariantFiltration - Deflater: IntelDeflater\n",
            "16:08:46.783 INFO  VariantFiltration - Inflater: IntelInflater\n",
            "16:08:46.783 INFO  VariantFiltration - GCS max retries/reopens: 20\n",
            "16:08:46.783 INFO  VariantFiltration - Requester pays: disabled\n",
            "16:08:46.783 INFO  VariantFiltration - Initializing engine\n",
            "16:08:46.973 INFO  FeatureManager - Using codec VCFCodec to read file file:///content/output.ann.vcf\n",
            "16:08:47.307 INFO  VariantFiltration - Done initializing engine\n",
            "16:08:47.516 INFO  ProgressMeter - Starting traversal\n",
            "16:08:47.517 INFO  ProgressMeter -        Current Locus  Elapsed Minutes    Variants Processed  Variants/Minute\n",
            "16:08:55.655 INFO  ProgressMeter - chrUn_KI270751v1:147005              0.1                138560        1021577.8\n",
            "16:08:55.655 INFO  ProgressMeter - Traversal complete. Processed 138560 total variants in 0.1 minutes.\n",
            "16:08:55.763 INFO  VariantFiltration - Shutting down engine\n",
            "[December 19, 2022 at 4:08:55 PM UTC] org.broadinstitute.hellbender.tools.walkers.filters.VariantFiltration done. Elapsed time: 0.16 minutes.\n",
            "Runtime.totalMemory()=637534208\n"
          ]
        },
        {
          "output_type": "execute_result",
          "data": {
            "text/plain": []
          },
          "metadata": {},
          "execution_count": 10
        }
      ]
    },
    {
      "cell_type": "code",
      "source": [
        "!gzip -d snps_filtered.vcf.gz"
      ],
      "metadata": {
        "id": "g46JiTvk2YqY"
      },
      "execution_count": 11,
      "outputs": []
    },
    {
      "cell_type": "code",
      "source": [
        "!cat snps_filtered.vcf | grep PASS > snps_filtered_only.vcf"
      ],
      "metadata": {
        "id": "Re3s8_xfGAJ0"
      },
      "execution_count": 12,
      "outputs": []
    },
    {
      "cell_type": "code",
      "source": [
        "!egrep \"#|synonymous|missense|stop_gained\" snps_filtered_only.vcf > file_snps_filtered_only.vcf\n",
        "!java -jar snpEff/SnpSift.jar tstv file_snps_filtered_only.vcf"
      ],
      "metadata": {
        "colab": {
          "base_uri": "https://localhost:8080/"
        },
        "id": "eSJqyliRbo9n",
        "outputId": "d3fd6fe0-6da8-408a-9d8d-56692ab69344"
      },
      "execution_count": 13,
      "outputs": [
        {
          "output_type": "stream",
          "name": "stdout",
          "text": [
            "00:00:00 Analysing 'file_snps_filtered_only.vcf'\n",
            "...................................................................................................\n",
            "100\t....................................................................................................\n",
            "200\t....................................................................................................\n",
            "300\t....................................................................................................\n",
            "400\t....................................................................................................\n",
            "500\t....................................................................................................\n",
            "600\t....................................................................................................\n",
            "700\t....................................................................................................\n",
            "800\t....................................................................................................\n",
            "900\t....................................................................................................\n",
            "1000\t....................................................................................................\n",
            "1100\t....................................................................................................\n",
            "1200\t....................................................................................................\n",
            "1300\t....................................................................................................\n",
            "1400\t....................................................................................................\n",
            "1500\t....................................................................................................\n",
            "1600\t....................................................................................................\n",
            "1700\t....................................................................................................\n",
            "1800\t....................................................................................................\n",
            "1900\t....................................................................................................\n",
            "2000\t....................................................................................................\n",
            "2100\t....................................................................................................\n",
            "2200\t....................................................................................................\n",
            "2300\t....................................................................................................\n",
            "2400\t....................................................................................................\n",
            "2500\t....................................................................................................\n",
            "2600\t....................................................................................................\n",
            "2700\t....................................................................................................\n",
            "2800\t....................................................................................................\n",
            "2900\t....................................................................................................\n",
            "3000\t....................................................................................................\n",
            "3100\t....................................................................................................\n",
            "3200\t....................................................................................................\n",
            "3300\t....................................................................................................\n",
            "3400\t....................................................................................................\n",
            "3500\t....................................................................................................\n",
            "3600\t....................................................................................................\n",
            "3700\t....................................................................................................\n",
            "3800\t....................................................................................................\n",
            "3900\t....................................................................................................\n",
            "4000\t....................................................................................................\n",
            "4100\t....................................................................................................\n",
            "4200\t....................................................................................................\n",
            "4300\t....................................................................................................\n",
            "4400\t....................................................................................................\n",
            "4500\t....................................................................................................\n",
            "4600\t....................................................................................................\n",
            "4700\t....................................................................................................\n",
            "4800\t....................................................................................................\n",
            "4900\t....................................................................................................\n",
            "5000\t....................................................................................................\n",
            "5100\t....................................................................................................\n",
            "5200\t....................................................................................................\n",
            "5300\t....................................................................................................\n",
            "5400\t....................................................................................................\n",
            "5500\t....................................................................................................\n",
            "5600\t....................................................................................................\n",
            "5700\t....................................................................................................\n",
            "5800\t....................................................................................................\n",
            "5900\t....................................................................................................\n",
            "6000\t....................................................................................................\n",
            "6100\t....................................................................................................\n",
            "6200\t....................................................................................................\n",
            "6300\t....................................................................................................\n",
            "6400\t....................................................................................................\n",
            "6500\t....................................................................................................\n",
            "6600\t....................................................................................................\n",
            "6700\t....................................................................................................\n",
            "6800\t....................................................................................................\n",
            "6900\t....................................................................................................\n",
            "7000\t....................................................................................................\n",
            "7100\t....................................................................................................\n",
            "7200\t....................................................................................................\n",
            "7300\t....................................................................................................\n",
            "7400\t....................................................................................................\n",
            "7500\t....................................................................................................\n",
            "7600\t....................................................................................................\n",
            "7700\t....................................................................................................\n",
            "7800\t....................................................................................................\n",
            "7900\t....................................................................................................\n",
            "8000\t....................................................................................................\n",
            "8100\t....................................................................................................\n",
            "8200\t....................................................................................................\n",
            "8300\t....................................................................................................\n",
            "8400\t....................................................................................................\n",
            "8500\t....................................................................................................\n",
            "8600\t....................................................................................................\n",
            "8700\t....................................................................................................\n",
            "8800\t....................................................................................................\n",
            "8900\t....................................................................................................\n",
            "9000\t....................................................................................................\n",
            "9100\t....................................................................................................\n",
            "9200\t....................................................................................................\n",
            "9300\t....................................................................................................\n",
            "9400\t....................................................................................................\n",
            "9500\t....................................................................................................\n",
            "9600\t....................................................................................................\n",
            "9700\t....................................................................................................\n",
            "9800\t....................................................................................................\n",
            "9900\t....................................................................................................\n",
            "10000\t....................................................................................................\n",
            "10100\t....................................................................................................\n",
            "10200\t....................................................................................................\n",
            "10300\t....................................................................................................\n",
            "10400\t....................................................................................................\n",
            "10500\t....................................................................................................\n",
            "10600\t....................................................................................................\n",
            "10700\t....................................................................................................\n",
            "10800\t....................................................................................................\n",
            "10900\t....................................................................................................\n",
            "11000\t....................................................................................................\n",
            "11100\t....................................................................................................\n",
            "11200\t....................................................................................................\n",
            "11300\t....................................................................................................\n",
            "11400\t....................................................................................................\n",
            "11500\t....................................................................................................\n",
            "11600\t....................................................................................................\n",
            "11700\t....................................................................................................\n",
            "11800\t....................................................................................................\n",
            "11900\t....................................................................................................\n",
            "12000\t....................................................................................................\n",
            "12100\t....................................................................................................\n",
            "12200\t....................................................................................................\n",
            "12300\t....................................................................................................\n",
            "12400\t....................................................................................................\n",
            "12500\t....................................................................................................\n",
            "12600\t....................................................................................................\n",
            "12700\t....................................................................................................\n",
            "12800\t....................................................................................................\n",
            "12900\t....................................................................................................\n",
            "13000\t....................................................................................................\n",
            "13100\t....................................................................................................\n",
            "13200\t....................................................................................................\n",
            "13300\t....................................................................................................\n",
            "13400\t....................................................................................................\n",
            "13500\t....................................................................................................\n",
            "13600\t....................................................................................................\n",
            "13700\t....................................................................................................\n",
            "13800\t....................................................................................................\n",
            "13900\t....................................................................................................\n",
            "14000\t....................................................................................................\n",
            "14100\t....................................................................................................\n",
            "14200\t....................................................................................................\n",
            "14300\t....................................................................................................\n",
            "14400\t....................................................................................................\n",
            "14500\t....................................................................................................\n",
            "14600\t....................................................................................................\n",
            "14700\t....................................................................................................\n",
            "14800\t....................................................................................................\n",
            "14900\t....................................................................................................\n",
            "15000\t....................................................................................................\n",
            "15100\t....................................................................................................\n",
            "15200\t....................................................................................................\n",
            "15300\t....................................................................................................\n",
            "15400\t....................................................................................................\n",
            "15500\t....................................................................................................\n",
            "15600\t....................................................................................................\n",
            "15700\t....................................................................................................\n",
            "15800\t....................................................................................................\n",
            "15900\t....................................................................................................\n",
            "16000\t....................................................................................................\n",
            "16100\t....................................................................................................\n",
            "16200\t....................................................................................................\n",
            "16300\t....................................................................................................\n",
            "16400\t....................................................................................................\n",
            "16500\t....................................................................................................\n",
            "16600\t....................................................................................................\n",
            "16700\t....................................................................................................\n",
            "16800\t....................................................................................................\n",
            "16900\t....................................................................................................\n",
            "17000\t....................................................................................................\n",
            "17100\t....................................................................................................\n",
            "17200\t....................................................................................................\n",
            "17300\t....................................................................................................\n",
            "17400\t....................................................................................................\n",
            "17500\t....................................................................................................\n",
            "17600\t....................................................................................................\n",
            "17700\t....................................................................................................\n",
            "17800\t....................................................................................................\n",
            "17900\t....................................................................................................\n",
            "18000\t....................................................................................................\n",
            "18100\t....................................................................................................\n",
            "18200\t....................................................................................................\n",
            "18300\t....................................................................................................\n",
            "18400\t....................................................................................................\n",
            "18500\t....................................................................................................\n",
            "18600\t....................................................................................................\n",
            "18700\t....................................................................................................\n",
            "18800\t....................................................................................................\n",
            "18900\t....................................................................................................\n",
            "19000\t....................................................................................................\n",
            "19100\t....................................................................................................\n",
            "19200\t....................................................................................................\n",
            "19300\t....................................................................................................\n",
            "19400\t....................................................................................................\n",
            "19500\t....................................................................................................\n",
            "19600\t....................................................................................................\n",
            "19700\t....................................................................................................\n",
            "19800\t....................................................................................................\n",
            "19900\t....................................................................................................\n",
            "20000\t....................................................................................................\n",
            "20100\t............\n",
            "TS/TV stats:\n",
            "Sample ,Total\n",
            "Transitions ,21901,21901\n",
            "Transversions ,7139,7139\n",
            "Ts/Tv ,3.068,3.068\n",
            "\n",
            "\n",
            "Hom/Het stats:\n",
            "Sample ,Total\n",
            "Homozygous reference,0,0\n",
            "One ALT,11136,11136\n",
            "Two ALTs,8975,8975\n",
            "Missing,0,0\n",
            "\n",
            "\n",
            "Variant type stats:\n",
            "Sample ,Total\n",
            "SNP,0\n",
            "MNP,0\n",
            "INS,0\n",
            "DEL,0\n",
            "MIXED,0\n",
            "Multiallelic,0\n",
            "\n",
            "\n",
            "Allele count stats:\n",
            "Sample ,Total\n",
            "\n",
            "00:00:02 Done\n"
          ]
        }
      ]
    },
    {
      "cell_type": "markdown",
      "source": [
        "ts/tv стало немного выше, но почти не изменился"
      ],
      "metadata": {
        "id": "humFzSiOJYmh"
      }
    },
    {
      "cell_type": "markdown",
      "source": [
        "Protein truncating variants и гомозиготные варианты, изменяющие последовательность белка"
      ],
      "metadata": {
        "id": "JqiUXB3pDasH"
      }
    },
    {
      "cell_type": "code",
      "source": [
        "!cat snps_filtered_only.vcf | grep \"frameshift_variant\" | wc -l"
      ],
      "metadata": {
        "colab": {
          "base_uri": "https://localhost:8080/"
        },
        "id": "6C8qaib2M4Qb",
        "outputId": "3fed5a84-709a-4d98-8c36-bc57d6bbac04"
      },
      "execution_count": 30,
      "outputs": [
        {
          "output_type": "stream",
          "name": "stdout",
          "text": [
            "372\n"
          ]
        }
      ]
    },
    {
      "cell_type": "code",
      "source": [
        "!cat snps_filtered_only.vcf | grep \"frameshift_variant\" | head -n 5"
      ],
      "metadata": {
        "colab": {
          "base_uri": "https://localhost:8080/"
        },
        "id": "E8BW6TRbDi2v",
        "outputId": "85d10e52-ba40-4251-95e6-e6c765f31006"
      },
      "execution_count": 32,
      "outputs": [
        {
          "output_type": "stream",
          "name": "stdout",
          "text": [
            "chr1\t19081800\t.\tG\tGC\t63.60\tPASS\tAC=1;AF=0.500;AN=2;ANN=GC|frameshift_variant|HIGH|UBR4|ENSG00000127481|transcript|ENST00000375225.7|protein_coding|1/4|c.6dupG|p.Pro3fs|440/1533|6/777|2/258||,GC|upstream_gene_variant|MODIFIER|UBR4|ENSG00000127481|transcript|ENST00000459947.5|retained_intron||n.-495dupG|||||495|,GC|upstream_gene_variant|MODIFIER|UBR4|ENSG00000127481|transcript|ENST00000486515.1|processed_transcript||n.-3974dupG|||||3974|,GC|intron_variant|MODIFIER|UBR4|ENSG00000127481|transcript|ENST00000375254.8|protein_coding|102/105|c.15009-228dupG||||||,GC|intron_variant|MODIFIER|UBR4|ENSG00000127481|transcript|ENST00000375224.1|protein_coding|17/20|c.2130-228dupG||||||;BaseQRankSum=0.712;DP=10;ExcessHet=0.0000;FS=2.808;MLEAC=1;MLEAF=0.500;MQ=60.00;MQRankSum=0.000;QD=7.07;ReadPosRankSum=-2.515;SOR=0.959\tGT:AD:DP:GQ:PL\t0/1:6,3:9:71:71,0,168\n",
            "chr1\t21842049\t.\tGC\tG\t37.60\tPASS\tAC=1;AF=0.500;AN=2;ANN=G|frameshift_variant|HIGH|HSPG2|ENSG00000142798|transcript|ENST00000374695.8|protein_coding|69/97|c.9145delG|p.Ala3049fs|9238/14341|9145/13176|3049/4391||,G|upstream_gene_variant|MODIFIER|HSPG2|ENSG00000142798|transcript|ENST00000374676.4|protein_coding||c.-3045delG|||||3044|WARNING_TRANSCRIPT_NO_START_CODON,G|downstream_gene_variant|MODIFIER|HSPG2|ENSG00000142798|transcript|ENST00000453796.1|retained_intron||n.*4146delG|||||4146|;BaseQRankSum=-0.619;DP=8;ExcessHet=0.0000;FS=0.000;LOF=(HSPG2|ENSG00000142798|15|0.07);MLEAC=1;MLEAF=0.500;MQ=60.00;MQRankSum=0.000;QD=4.70;ReadPosRankSum=0.464;SOR=0.307\tGT:AD:DP:GQ:PL\t0/1:6,2:8:45:45,0,200\n",
            "chr1\t25814138\t.\tTC\tT\t30.60\tPASS\tAC=1;AF=0.500;AN=2;ANN=T|frameshift_variant|HIGH|SELENON|ENSG00000162430|transcript|ENST00000361547.7|protein_coding|12/13|c.1566delC|p.Val523fs|1604/4314|1566/1773|522/590||WARNING_TRANSCRIPT_MULTIPLE_STOP_CODONS&INFO_REALIGN_3_PRIME,T|frameshift_variant|HIGH|SELENON|ENSG00000162430|transcript|ENST00000374315.1|protein_coding|11/12|c.1464delC|p.Val489fs|1502/4212|1464/1671|488/556||INFO_REALIGN_3_PRIME,T|frameshift_variant|HIGH|SELENON|ENSG00000162430|transcript|ENST00000354177.9|protein_coding|11/12|c.1395delC|p.Val466fs|1395/1602|1395/1602|465/533||INFO_REALIGN_3_PRIME,T|3_prime_UTR_variant|MODIFIER|SELENON|ENSG00000162430|transcript|ENST00000494537.2|nonsense_mediated_decay|12/13|n.*86delC|||||169|INFO_REALIGN_3_PRIME,T|upstream_gene_variant|MODIFIER|MTFR1L|ENSG00000117640|transcript|ENST00000424294.5|protein_coding||c.-4800delC|||||4501|WARNING_TRANSCRIPT_INCOMPLETE,T|downstream_gene_variant|MODIFIER|ENSG00000228172|ENSG00000228172|transcript|ENST00000442055.5|pseudogene||n.*2610delG|||||2610|,T|downstream_gene_variant|MODIFIER|ENSG00000228172|ENSG00000228172|transcript|ENST00000453649.1|pseudogene||n.*2611delG|||||2611|,T|downstream_gene_variant|MODIFIER|ENSG00000228172|ENSG00000228172|transcript|ENST00000536896.2|pseudogene||n.*4352delG|||||4352|,T|intron_variant|MODIFIER|ENSG00000255054|ENSG00000255054|transcript|ENST00000559265.1|retained_intron|2/2|n.255+2263delC||||||INFO_REALIGN_3_PRIME,T|non_coding_transcript_exon_variant|MODIFIER|SELENON|ENSG00000162430|transcript|ENST00000494537.2|nonsense_mediated_decay|12/13|n.*86delC||||||INFO_REALIGN_3_PRIME,T|non_coding_transcript_exon_variant|MODIFIER|ENSG00000255054|ENSG00000255054|transcript|ENST00000527604.1|nonsense_mediated_decay|2/4|n.87delC||||||INFO_REALIGN_3_PRIME;BaseQRankSum=-1.593;DP=11;ExcessHet=0.0000;FS=0.000;LOF=(SELENON|ENSG00000162430|4|0.75);MLEAC=1;MLEAF=0.500;MQ=60.00;MQRankSum=0.000;QD=3.06;ReadPosRankSum=-0.967;SOR=0.368\tGT:AD:DP:GQ:PL\t0/1:8,2:10:38:38,0,235\n",
            "chr1\t27547541\t.\tAG\tA\t33.60\tPASS\tAC=1;AF=0.500;AN=2;ANN=A|frameshift_variant|HIGH|AHDC1|ENSG00000126705|transcript|ENST00000247087.10|protein_coding|5/6|c.4574delC|p.Pro1525fs|5172/6335|4574/4812|1525/1603||,A|frameshift_variant|HIGH|AHDC1|ENSG00000126705|transcript|ENST00000374011.6|protein_coding|6/7|c.4574delC|p.Pro1525fs|5543/6438|4574/4812|1525/1603||,A|frameshift_variant|HIGH|AHDC1|ENSG00000126705|transcript|ENST00000673934.1|protein_coding|8/9|c.4574delC|p.Pro1525fs|5475/6428|4574/4812|1525/1603||,A|frameshift_variant|HIGH|AHDC1|ENSG00000126705|transcript|ENST00000644989.1|protein_coding|5/6|c.4574delC|p.Pro1525fs|5178/6103|4574/4812|1525/1603||,A|frameshift_variant|HIGH|AHDC1|ENSG00000126705|transcript|ENST00000642416.1|protein_coding|6/7|c.4574delC|p.Pro1525fs|5197/5734|4574/4812|1525/1603||,A|frameshift_variant|HIGH|AHDC1|ENSG00000126705|transcript|ENST00000642245.1|protein_coding|8/9|c.4574delC|p.Pro1525fs|5475/5988|4574/4812|1525/1603||,A|downstream_gene_variant|MODIFIER|AHDC1|ENSG00000126705|transcript|ENST00000487743.3|processed_transcript||n.*4126delC|||||4126|,A|downstream_gene_variant|MODIFIER|AHDC1|ENSG00000126705|transcript|ENST00000490295.2|processed_transcript||n.*4954delC|||||4954|,A|downstream_gene_variant|MODIFIER|AHDC1|ENSG00000126705|transcript|ENST00000643308.1|processed_transcript||n.*3327delC|||||3327|;BaseQRankSum=-1.068;DP=8;ExcessHet=0.0000;FS=0.000;MLEAC=1;MLEAF=0.500;MQ=60.00;MQRankSum=0.000;QD=4.20;ReadPosRankSum=0.366;SOR=0.693\tGT:AD:DP:GQ:PL\t0/1:6,2:8:41:41,0,170\n",
            "chr1\t27942318\t.\tT\tTC\t319.60\tPASS\tAC=1;AF=0.500;AN=2;ANN=TC|frameshift_variant|HIGH|SMPDL3B|ENSG00000130768|transcript|ENST00000411604.5|protein_coding|2/7|c.110dupC|p.Thr38fs|256/953|111/808|37/268||WARNING_TRANSCRIPT_INCOMPLETE&INFO_REALIGN_3_PRIME,TC|intron_variant|MODIFIER|SMPDL3B|ENSG00000130768|transcript|ENST00000373894.8|protein_coding|1/7|c.62-2909dupC||||||INFO_REALIGN_3_PRIME,TC|intron_variant|MODIFIER|SMPDL3B|ENSG00000130768|transcript|ENST00000373888.8|protein_coding|1/6|c.62-2909dupC||||||INFO_REALIGN_3_PRIME,TC|intron_variant|MODIFIER|SMPDL3B|ENSG00000130768|transcript|ENST00000548116.5|nonsense_mediated_decay|1/7|n.62-2909dupC||||||INFO_REALIGN_3_PRIME,TC|intron_variant|MODIFIER|ENSG00000227050|ENSG00000227050|transcript|ENST00000448015.1|pseudogene|4/4|n.287-3240dupG||||||,TC|intron_variant|MODIFIER|SMPDL3B|ENSG00000130768|transcript|ENST00000549094.1|protein_coding|1/6|c.62-2909dupC||||||INFO_REALIGN_3_PRIME,TC|non_coding_transcript_exon_variant|MODIFIER|SMPDL3B|ENSG00000130768|transcript|ENST00000466793.1|processed_transcript|4/5|n.471dupC||||||INFO_REALIGN_3_PRIME;BaseQRankSum=-2.362;DP=12;ExcessHet=0.0000;FS=0.000;LOF=(SMPDL3B|ENSG00000130768|6|0.17);MLEAC=1;MLEAF=0.500;MQ=60.00;MQRankSum=0.000;QD=29.05;ReadPosRankSum=-0.699;SOR=0.368\tGT:AD:DP:GQ:PL\t0/1:3,8:11:98:327,0,98\n"
          ]
        }
      ]
    },
    {
      "cell_type": "code",
      "source": [
        "!cat file_snps_filtered_only.vcf | egrep \"#|synonymous|missense|stop_gained\" | egrep \"1/1|0/0\" | wc -l "
      ],
      "metadata": {
        "colab": {
          "base_uri": "https://localhost:8080/"
        },
        "id": "gmBs94mBdK2w",
        "outputId": "7bfc1bff-77dc-4222-a304-f398cb53dc30"
      },
      "execution_count": 33,
      "outputs": [
        {
          "output_type": "stream",
          "name": "stdout",
          "text": [
            "12755\n"
          ]
        }
      ]
    },
    {
      "cell_type": "code",
      "source": [
        "!cat file_snps_filtered_only.vcf | egrep \"#|synonymous|missense|stop_gained\" | egrep \"1/1|0/0\" | head -n 5"
      ],
      "metadata": {
        "colab": {
          "base_uri": "https://localhost:8080/"
        },
        "id": "LW2ATELwDo9W",
        "outputId": "efdcdd77-f96c-4715-a28f-ac31ba3b9413"
      },
      "execution_count": 34,
      "outputs": [
        {
          "output_type": "stream",
          "name": "stdout",
          "text": [
            "chr1\t69511\t.\tA\tG\t98.14\tPASS\tAC=2;AF=1.00;AN=2;ANN=G|missense_variant|MODERATE|OR4F5|ENSG00000186092|transcript|ENST00000641515.2|protein_coding|3/3|c.484A>G|p.Thr162Ala|544/2618|484/981|162/326||;DP=5;ExcessHet=0.0000;FS=0.000;MLEAC=2;MLEAF=1.00;MQ=45.98;QD=24.54;SOR=1.609\tGT:AD:DP:GQ:PL\t1/1:0,4:4:12:112,12,0\n",
            "chr1\t946247\t.\tG\tA\t108.14\tPASS\tAC=2;AF=1.00;AN=2;ANN=A|synonymous_variant|LOW|NOC2L|ENSG00000188976|transcript|ENST00000327044.7|protein_coding|16/19|c.1843C>T|p.Leu615Leu|1859/2757|1843/2250|615/749||,A|upstream_gene_variant|MODIFIER|NOC2L|ENSG00000188976|transcript|ENST00000496938.1|processed_transcript||n.-685C>T|||||685|,A|downstream_gene_variant|MODIFIER|SAMD11|ENSG00000187634|transcript|ENST00000455979.1|protein_coding||c.*2094G>A|||||1988|WARNING_TRANSCRIPT_NO_START_CODON,A|downstream_gene_variant|MODIFIER|SAMD11|ENSG00000187634|transcript|ENST00000464948.1|retained_intron||n.*3355G>A|||||3355|,A|downstream_gene_variant|MODIFIER|SAMD11|ENSG00000187634|transcript|ENST00000466827.1|retained_intron||n.*3445G>A|||||3445|,A|downstream_gene_variant|MODIFIER|SAMD11|ENSG00000187634|transcript|ENST00000618323.5|protein_coding||c.*2094G>A|||||1673|,A|downstream_gene_variant|MODIFIER|SAMD11|ENSG00000187634|transcript|ENST00000616016.5|protein_coding||c.*2094G>A|||||1673|,A|downstream_gene_variant|MODIFIER|SAMD11|ENSG00000187634|transcript|ENST00000342066.8|protein_coding||c.*2094G>A|||||1673|,A|downstream_gene_variant|MODIFIER|SAMD11|ENSG00000187634|transcript|ENST00000616125.5|protein_coding||c.*2094G>A|||||2094|,A|downstream_gene_variant|MODIFIER|SAMD11|ENSG00000187634|transcript|ENST00000617307.5|protein_coding||c.*2094G>A|||||2094|,A|downstream_gene_variant|MODIFIER|SAMD11|ENSG00000187634|transcript|ENST00000618181.5|protein_coding||c.*2094G>A|||||2094|,A|downstream_gene_variant|MODIFIER|SAMD11|ENSG00000187634|transcript|ENST00000618779.5|protein_coding||c.*2094G>A|||||2094|,A|downstream_gene_variant|MODIFIER|SAMD11|ENSG00000187634|transcript|ENST00000622503.5|protein_coding||c.*2094G>A|||||2094|,A|downstream_gene_variant|MODIFIER|SAMD11|ENSG00000187634|transcript|ENST00000341065.8|protein_coding||c.*2094G>A|||||1672|WARNING_TRANSCRIPT_NO_START_CODON,A|downstream_gene_variant|MODIFIER|SAMD11|ENSG00000187634|transcript|ENST00000478729.1|processed_transcript||n.*4074G>A|||||4074|,A|downstream_gene_variant|MODIFIER|SAMD11|ENSG00000187634|transcript|ENST00000474461.1|retained_intron||n.*3253G>A|||||3253|,A|non_coding_transcript_exon_variant|MODIFIER|NOC2L|ENSG00000188976|transcript|ENST00000483767.5|retained_intron|2/5|n.699C>T||||||,A|non_coding_transcript_exon_variant|MODIFIER|NOC2L|ENSG00000188976|transcript|ENST00000477976.5|retained_intron|14/17|n.3290C>T||||||;DP=4;ExcessHet=0.0000;FS=0.000;MLEAC=2;MLEAF=1.00;MQ=60.00;QD=27.04;SOR=1.609\tGT:AD:DP:GQ:PL\t1/1:0,4:4:12:122,12,0\n",
            "chr1\t952421\t.\tA\tG\t462.06\tPASS\tAC=2;AF=1.00;AN=2;ANN=G|synonymous_variant|LOW|NOC2L|ENSG00000188976|transcript|ENST00000327044.7|protein_coding|10/19|c.1182T>C|p.Thr394Thr|1198/2757|1182/2250|394/749||,G|downstream_gene_variant|MODIFIER|NOC2L|ENSG00000188976|transcript|ENST00000487214.1|processed_transcript||n.*2005T>C|||||2005|,G|non_coding_transcript_exon_variant|MODIFIER|NOC2L|ENSG00000188976|transcript|ENST00000477976.5|retained_intron|8/17|n.2629T>C||||||;DP=14;ExcessHet=0.0000;FS=0.000;MLEAC=2;MLEAF=1.00;MQ=60.00;QD=33.00;SOR=2.985\tGT:AD:DP:GQ:PL\t1/1:0,14:14:42:476,42,0\n",
            "chr1\t953259\t.\tT\tC\t785.06\tPASS\tAC=2;AF=1.00;AN=2;ANN=C|synonymous_variant|LOW|NOC2L|ENSG00000188976|transcript|ENST00000327044.7|protein_coding|9/19|c.918A>G|p.Glu306Glu|934/2757|918/2250|306/749||,C|downstream_gene_variant|MODIFIER|NOC2L|ENSG00000188976|transcript|ENST00000469563.1|retained_intron||n.*4987A>G|||||4987|,C|downstream_gene_variant|MODIFIER|NOC2L|ENSG00000188976|transcript|ENST00000487214.1|processed_transcript||n.*1167A>G|||||1167|,C|non_coding_transcript_exon_variant|MODIFIER|NOC2L|ENSG00000188976|transcript|ENST00000477976.5|retained_intron|7/17|n.2365A>G||||||;DP=26;ExcessHet=0.0000;FS=0.000;MLEAC=2;MLEAF=1.00;MQ=60.00;QD=31.40;SOR=0.941\tGT:AD:DP:GQ:PL\t1/1:0,25:25:75:799,75,0\n",
            "chr1\t953279\t.\tT\tC\t713.06\tPASS\tAC=2;AF=1.00;AN=2;ANN=C|missense_variant|MODERATE|NOC2L|ENSG00000188976|transcript|ENST00000327044.7|protein_coding|9/19|c.898A>G|p.Ile300Val|914/2757|898/2250|300/749||,C|downstream_gene_variant|MODIFIER|NOC2L|ENSG00000188976|transcript|ENST00000469563.1|retained_intron||n.*4967A>G|||||4967|,C|downstream_gene_variant|MODIFIER|NOC2L|ENSG00000188976|transcript|ENST00000487214.1|processed_transcript||n.*1147A>G|||||1147|,C|non_coding_transcript_exon_variant|MODIFIER|NOC2L|ENSG00000188976|transcript|ENST00000477976.5|retained_intron|7/17|n.2345A>G||||||;DP=26;ExcessHet=0.0000;FS=0.000;MLEAC=2;MLEAF=1.00;MQ=60.00;QD=27.43;SOR=0.846\tGT:AD:DP:GQ:PL\t1/1:0,26:26:78:727,78,0\n"
          ]
        }
      ]
    },
    {
      "cell_type": "code",
      "source": [],
      "metadata": {
        "id": "5vflBRrVM8-q"
      },
      "execution_count": null,
      "outputs": []
    }
  ]
}
